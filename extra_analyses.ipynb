{
 "cells": [
  {
   "cell_type": "markdown",
   "metadata": {},
   "source": [
    "# Some more analyses"
   ]
  },
  {
   "cell_type": "code",
   "execution_count": 2,
   "metadata": {},
   "outputs": [],
   "source": [
    "import pandas as pd\n",
    "import numpy as np\n",
    "import scipy.stats as stats\n",
    "from scipy.optimize import minimize\n",
    "from statsmodels.stats.descriptivestats import sign_test\n",
    "import math\n",
    "import os\n",
    "import matplotlib.pyplot as plt\n",
    "import seaborn as sns\n",
    "import matplotlib.ticker as mtick\n",
    "\n",
    "# load data\n",
    "dirs = [f for f in os.listdir('data') if not f.startswith('.')]\n",
    "\n",
    "data = pd.DataFrame()\n",
    "\n",
    "for i in range(0,len(dirs)) :\n",
    "    tempdata = pd.read_csv('data/'+dirs[i]+'/champs.csv')\n",
    "    tempdata['year'] = int(dirs[i][0:4:1])\n",
    "    data = data.append(tempdata)\n",
    "\n",
    "data[\"home_goals\"] = np.nan\n",
    "data[\"away_goals\"] = np.nan\n",
    "data[\"sign\"] = np.nan\n",
    "data[\"leg2\"] = \"False\"\n",
    "data[\"agg_sign\"] = np.nan\n",
    "data.reset_index(inplace=True)\n",
    "\n",
    "nrdatasets=len(data)\n",
    "\n",
    "for i in range(0,nrdatasets) :\n",
    "    middle = data.iloc[i]['FT'].find('-')\n",
    "    \n",
    "    if (data.iloc[i]['FT'].find('*')==-1) :\n",
    "        end = len(data.iloc[i]['FT'])\n",
    "    else :\n",
    "        end = data.iloc[i]['FT'].find(' ')\n",
    "    home_goals = int(data.iloc[i]['FT'][0: middle: 1])\n",
    "    away_goals = int(data.iloc[i]['FT'][(middle+1): end: 1])\n",
    "    data.at[i,\"home_goals\"] = home_goals\n",
    "    data.at[i,\"away_goals\"] = away_goals\n",
    "    \n",
    "    if (home_goals > away_goals) :\n",
    "        data.at[i,\"results\"] = \"H\"\n",
    "        data.at[i,\"sign\"] = 1\n",
    "    elif (home_goals == away_goals) :\n",
    "        data.at[i,\"results\"] = \"D\"\n",
    "        data.at[i,\"sign\"] = -1\n",
    "    else :\n",
    "        data.at[i,\"results\"] = \"A\"\n",
    "        data.at[i,\"sign\"] = 0\n",
    "    \n",
    "    if (data.iloc[i]['Round'].find('Leg 2')!=-1) :\n",
    "        data.at[i,\"leg2\"] = True\n",
    "        \n",
    "        if (data.iloc[i]['∑FT'].find('(a)')==-1) :\n",
    "            middle = data.iloc[i]['∑FT'].find('-')\n",
    "            end = data.iloc[i]['∑FT'].find(' ')\n",
    "            home_goals = int(data.iloc[i]['∑FT'][0: middle: 1])\n",
    "            away_goals = int(data.iloc[i]['∑FT'][(middle+1): end: 1])\n",
    "            away_goals_win = 0\n",
    "        else :\n",
    "            middle = data.iloc[i]['∑FT'].find('-')\n",
    "            end = data.iloc[i]['∑FT'].find(' ',middle)\n",
    "            beginning = data.iloc[i]['∑FT'].find(' ')\n",
    "            home_goals = int(data.iloc[i]['∑FT'][beginning: middle: 1])\n",
    "            away_goals = int(data.iloc[i]['∑FT'][(middle+1): end: 1])\n",
    "            \n",
    "            if (data.iloc[i]['FT'].find('*')==-1) :\n",
    "                middle = data.iloc[i]['FT'].find('-')\n",
    "                end = len(data.iloc[i]['FT'])            \n",
    "                home_goals_FT = int(data.iloc[i]['FT'][0: middle: 1])\n",
    "                away_goals_FT = int(data.iloc[i]['FT'][(middle+1): end: 1])\n",
    "            else :\n",
    "                middle = data.iloc[i]['FT'].find('-')\n",
    "                end = end = data.iloc[i]['∑FT'].find(' ')\n",
    "                home_goals_FT = int(data.iloc[i]['FT'][0: middle: 1])\n",
    "                away_goals_FT = int(data.iloc[i]['FT'][(middle+1): end: 1])\n",
    "            \n",
    "            away_goals_hometeam = home_goals-home_goals_FT\n",
    "            away_goals_win = 1\n",
    "            \n",
    "        if (home_goals > away_goals) :\n",
    "            data.at[i,\"agg_results\"] = \"H\"\n",
    "            data.at[i,\"agg_sign\"] = 1\n",
    "        elif (home_goals == away_goals) :\n",
    "            if (away_goals_win == 0) :\n",
    "                data.at[i,\"agg_results\"] = \"D\"\n",
    "                data.at[i,\"agg_sign\"] = 0\n",
    "            else :\n",
    "                if (away_goals_hometeam>away_goals) :\n",
    "                    data.at[i,\"agg_results\"] = \"H\"\n",
    "                    data.at[i,\"agg_sign\"] = 1\n",
    "                else :\n",
    "                    data.at[i,\"agg_results\"] = \"A\"\n",
    "                    data.at[i,\"agg_sign\"] = -1\n",
    "        else :\n",
    "            data.at[i,\"agg_results\"] = \"A\"\n",
    "            data.at[i,\"agg_sign\"] = -1\n",
    "        "
   ]
  },
  {
   "cell_type": "markdown",
   "metadata": {},
   "source": [
    "Unsurprisingly, there is a clear home advantage in the Champions league.  "
   ]
  },
  {
   "cell_type": "code",
   "execution_count": 36,
   "metadata": {},
   "outputs": [
    {
     "name": "stdout",
     "output_type": "stream",
     "text": [
      "The home team wins 52.5% of games.\n",
      "The away team wins 25.1% of games.\n",
      "There is a draw in 22.4% of games.\n",
      "The home team scores an average of 1.69 goals.\n",
      "The away team scores an average of 1.04 goals.\n"
     ]
    }
   ],
   "source": [
    "print('The home team wins ' + str(np.round(np.mean(data[\"results\"]==\"H\")*100,1)) + '% of games.')\n",
    "print('The away team wins ' + str(np.round(np.mean(data[\"results\"]==\"A\")*100,1)) + '% of games.')\n",
    "print('There is a draw in ' + str(np.round(np.mean(data[\"results\"]==\"D\")*100,1)) + '% of games.')\n",
    "print('The home team scores an average of ' + str(np.round(np.mean(data[\"home_goals\"]),2)) + ' goals.')\n",
    "print('The away team scores an average of ' + str(np.round(np.mean(data[\"away_goals\"]),2)) + ' goals.')"
   ]
  },
  {
   "cell_type": "markdown",
   "metadata": {},
   "source": [
    "Interestingly, there appears to be no benefit for the team that plays at home during the second leg of a playoff."
   ]
  },
  {
   "cell_type": "code",
   "execution_count": 7,
   "metadata": {},
   "outputs": [
    {
     "name": "stdout",
     "output_type": "stream",
     "text": [
      "In a Leg 2 game, the home team goes through on 48.4% of games.\n",
      "In a Leg 2 game, the away team goes through on 46.2% of games.\n",
      "In a Leg 2 game, extra time is needed on 5.5% of games.\n",
      " \n",
      "There is no significant difference between the win percentage of home and away teams on leg 2,\n",
      "with a sign-test giving a p-value of 0.34.\n"
     ]
    }
   ],
   "source": [
    "print('In a Leg 2 game, the home team goes through on ' + str(np.round(np.mean(data[(data[\"leg2\"]==True)][\"agg_results\"]==\"H\")*100,1)) + '% of games.')\n",
    "print('In a Leg 2 game, the away team goes through on ' + str(np.round(np.mean(data[(data[\"leg2\"]==True)][\"agg_results\"]==\"A\")*100,1)) + '% of games.')\n",
    "print('In a Leg 2 game, extra time is needed on ' + str(np.round(np.mean(data[(data[\"leg2\"]==True)][\"agg_results\"]==\"D\")*100,1)) + '% of games.')\n",
    "\n",
    "results=sign_test(data[(data[\"leg2\"]==True) & (data[\"agg_results\"]!=\"D\")][\"agg_sign\"])\n",
    "print(' ')\n",
    "print('There is no significant difference between the win percentage of home and away teams on leg 2,\\nwith a sign-test giving a p-value of ' + str(np.round(results[1],2)) + '.')"
   ]
  },
  {
   "cell_type": "markdown",
   "metadata": {},
   "source": [
    "Here, I repeat the same analyses, but I exclude the Ro16:"
   ]
  },
  {
   "cell_type": "code",
   "execution_count": 6,
   "metadata": {},
   "outputs": [
    {
     "name": "stdout",
     "output_type": "stream",
     "text": [
      "In a Leg 2 game, the home team goes through on 48.3% of games.\n",
      "In a Leg 2 game, the away team goes through on 46.7% of games.\n",
      "In a Leg 2 game, extra time is needed on 5.0% of games.\n",
      " \n",
      "There is no significant difference between the win percentage of home and away teams on leg 2,\n",
      "with a sign-test giving a p-value of 0.52.\n"
     ]
    }
   ],
   "source": [
    "print('In a Leg 2 game, the home team goes through on ' + str(np.round(np.mean(data[(data[\"leg2\"]==True) & (data[\"Round\"]!=\"Round of 16 | Leg 2\")][\"agg_results\"]==\"H\")*100,1)) + '% of games.')\n",
    "print('In a Leg 2 game, the away team goes through on ' + str(np.round(np.mean(data[(data[\"leg2\"]==True) & (data[\"Round\"]!=\"Round of 16 | Leg 2\")][\"agg_results\"]==\"A\")*100,1)) + '% of games.')\n",
    "print('In a Leg 2 game, extra time is needed on ' + str(np.round(np.mean(data[(data[\"leg2\"]==True) & (data[\"Round\"]!=\"Round of 16 | Leg 2\")][\"agg_results\"]==\"D\")*100,1)) + '% of games.')\n",
    "\n",
    "results=sign_test(data[(data[\"leg2\"]==True) & (data[\"agg_results\"]!=\"D\") & (data[\"Round\"]!=\"Round of 16 | Leg 2\")][\"agg_sign\"])\n",
    "print(' ')\n",
    "print('There is no significant difference between the win percentage of home and away teams on leg 2,\\nwith a sign-test giving a p-value of ' + str(np.round(results[1],2)) + '.')"
   ]
  },
  {
   "cell_type": "code",
   "execution_count": null,
   "metadata": {},
   "outputs": [],
   "source": []
  }
 ],
 "metadata": {
  "kernelspec": {
   "display_name": "Python 3",
   "language": "python",
   "name": "python3"
  },
  "language_info": {
   "codemirror_mode": {
    "name": "ipython",
    "version": 3
   },
   "file_extension": ".py",
   "mimetype": "text/x-python",
   "name": "python",
   "nbconvert_exporter": "python",
   "pygments_lexer": "ipython3",
   "version": "3.7.6"
  }
 },
 "nbformat": 4,
 "nbformat_minor": 4
}
